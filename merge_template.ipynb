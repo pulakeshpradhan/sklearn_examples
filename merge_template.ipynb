{
 "cells": [
  {
   "cell_type": "code",
   "execution_count": 3,
   "id": "458e3b5e-e301-49b3-ba4b-fc169bff9ee6",
   "metadata": {},
   "outputs": [],
   "source": [
    "# pip install nbformat"
   ]
  },
  {
   "cell_type": "code",
   "execution_count": 36,
   "id": "60a714da-6fa7-4bef-ad73-28e30b4a65dc",
   "metadata": {},
   "outputs": [
    {
     "name": "stdout",
     "output_type": "stream",
     "text": [
      "Converted plot_cost_complexity_pruning.py to plot_cost_complexity_pruning.ipynb\n",
      "Converted plot_iris_dtc.py to plot_iris_dtc.ipynb\n",
      "Converted plot_tree_regression.py to plot_tree_regression.ipynb\n",
      "Converted plot_unveil_tree_structure.py to plot_unveil_tree_structure.ipynb\n"
     ]
    }
   ],
   "source": [
    "import nbformat as nbf\n",
    "import os\n",
    "\n",
    "# Specify the directory containing .py files\n",
    "directory = 'F:/Notebooks/sklearn/tree'  # Change this to your target directory\n",
    "\n",
    "# Loop through all .py files in the specified directory\n",
    "for filename in os.listdir(directory):\n",
    "    if filename.endswith('.py'):\n",
    "        file_path = os.path.join(directory, filename)\n",
    "        \n",
    "        # Create a new notebook\n",
    "        nb = nbf.v4.new_notebook()\n",
    "        nb.cells = []\n",
    "\n",
    "        # Read the content of the .py file\n",
    "        with open(file_path, 'r') as f:\n",
    "            code = f.read()\n",
    "            # Add the code as a new code cell in the notebook\n",
    "            nb.cells.append(nbf.v4.new_code_cell(code))\n",
    "        \n",
    "        # Define the output filename for the .ipynb file\n",
    "        output_filename = os.path.splitext(filename)[0] + '.ipynb'\n",
    "        output_path = os.path.join(directory, output_filename)\n",
    "\n",
    "        # Save the notebook to a file\n",
    "        with open(output_path, 'w') as f:\n",
    "            nbf.write(nb, f)\n",
    "\n",
    "        print(f\"Converted {filename} to {output_filename}\")"
   ]
  },
  {
   "cell_type": "code",
   "execution_count": null,
   "id": "b98c8f15-8e20-4b70-858d-3926045a2595",
   "metadata": {},
   "outputs": [],
   "source": []
  }
 ],
 "metadata": {
  "kernelspec": {
   "display_name": "Python 3 (ipykernel)",
   "language": "python",
   "name": "python3"
  },
  "language_info": {
   "codemirror_mode": {
    "name": "ipython",
    "version": 3
   },
   "file_extension": ".py",
   "mimetype": "text/x-python",
   "name": "python",
   "nbconvert_exporter": "python",
   "pygments_lexer": "ipython3",
   "version": "3.12.4"
  },
  "widgets": {
   "application/vnd.jupyter.widget-state+json": {
    "state": {},
    "version_major": 2,
    "version_minor": 0
   }
  }
 },
 "nbformat": 4,
 "nbformat_minor": 5
}
